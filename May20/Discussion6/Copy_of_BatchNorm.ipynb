{
  "nbformat": 4,
  "nbformat_minor": 0,
  "metadata": {
    "colab": {
      "name": "Copy of BatchNorm.ipynb",
      "provenance": [],
      "collapsed_sections": []
    },
    "kernelspec": {
      "name": "python3",
      "display_name": "Python 3"
    },
    "accelerator": "GPU",
    "widgets": {
      "application/vnd.jupyter.widget-state+json": {
        "f4e41b8484d241468a5423bd87f43880": {
          "model_module": "@jupyter-widgets/controls",
          "model_name": "HBoxModel",
          "state": {
            "_view_name": "HBoxView",
            "_dom_classes": [],
            "_model_name": "HBoxModel",
            "_view_module": "@jupyter-widgets/controls",
            "_model_module_version": "1.5.0",
            "_view_count": null,
            "_view_module_version": "1.5.0",
            "box_style": "",
            "layout": "IPY_MODEL_6d7f0a14fa294ce18177bbb9499d96cd",
            "_model_module": "@jupyter-widgets/controls",
            "children": [
              "IPY_MODEL_a9562d23a7224ce5832eba15bbdbeb27",
              "IPY_MODEL_f1c5e17d832643eaa6d70fd40f0d87e8"
            ]
          }
        },
        "6d7f0a14fa294ce18177bbb9499d96cd": {
          "model_module": "@jupyter-widgets/base",
          "model_name": "LayoutModel",
          "state": {
            "_view_name": "LayoutView",
            "grid_template_rows": null,
            "right": null,
            "justify_content": null,
            "_view_module": "@jupyter-widgets/base",
            "overflow": null,
            "_model_module_version": "1.2.0",
            "_view_count": null,
            "flex_flow": null,
            "width": null,
            "min_width": null,
            "border": null,
            "align_items": null,
            "bottom": null,
            "_model_module": "@jupyter-widgets/base",
            "top": null,
            "grid_column": null,
            "overflow_y": null,
            "overflow_x": null,
            "grid_auto_flow": null,
            "grid_area": null,
            "grid_template_columns": null,
            "flex": null,
            "_model_name": "LayoutModel",
            "justify_items": null,
            "grid_row": null,
            "max_height": null,
            "align_content": null,
            "visibility": null,
            "align_self": null,
            "height": null,
            "min_height": null,
            "padding": null,
            "grid_auto_rows": null,
            "grid_gap": null,
            "max_width": null,
            "order": null,
            "_view_module_version": "1.2.0",
            "grid_template_areas": null,
            "object_position": null,
            "object_fit": null,
            "grid_auto_columns": null,
            "margin": null,
            "display": null,
            "left": null
          }
        },
        "a9562d23a7224ce5832eba15bbdbeb27": {
          "model_module": "@jupyter-widgets/controls",
          "model_name": "FloatProgressModel",
          "state": {
            "_view_name": "ProgressView",
            "style": "IPY_MODEL_20620bfd30354f4cb9c55b9ca8a40764",
            "_dom_classes": [],
            "description": "",
            "_model_name": "FloatProgressModel",
            "bar_style": "success",
            "max": 1,
            "_view_module": "@jupyter-widgets/controls",
            "_model_module_version": "1.5.0",
            "value": 1,
            "_view_count": null,
            "_view_module_version": "1.5.0",
            "orientation": "horizontal",
            "min": 0,
            "description_tooltip": null,
            "_model_module": "@jupyter-widgets/controls",
            "layout": "IPY_MODEL_1956f20119e04eb4aac146f3e71c202a"
          }
        },
        "f1c5e17d832643eaa6d70fd40f0d87e8": {
          "model_module": "@jupyter-widgets/controls",
          "model_name": "HTMLModel",
          "state": {
            "_view_name": "HTMLView",
            "style": "IPY_MODEL_748513fe60104b0c9a5d376a93543367",
            "_dom_classes": [],
            "description": "",
            "_model_name": "HTMLModel",
            "placeholder": "​",
            "_view_module": "@jupyter-widgets/controls",
            "_model_module_version": "1.5.0",
            "value": " 9920512/? [00:04&lt;00:00, 2045037.37it/s]",
            "_view_count": null,
            "_view_module_version": "1.5.0",
            "description_tooltip": null,
            "_model_module": "@jupyter-widgets/controls",
            "layout": "IPY_MODEL_db8c04fc2d4143008dbf5472eb5d3dee"
          }
        },
        "20620bfd30354f4cb9c55b9ca8a40764": {
          "model_module": "@jupyter-widgets/controls",
          "model_name": "ProgressStyleModel",
          "state": {
            "_view_name": "StyleView",
            "_model_name": "ProgressStyleModel",
            "description_width": "initial",
            "_view_module": "@jupyter-widgets/base",
            "_model_module_version": "1.5.0",
            "_view_count": null,
            "_view_module_version": "1.2.0",
            "bar_color": null,
            "_model_module": "@jupyter-widgets/controls"
          }
        },
        "1956f20119e04eb4aac146f3e71c202a": {
          "model_module": "@jupyter-widgets/base",
          "model_name": "LayoutModel",
          "state": {
            "_view_name": "LayoutView",
            "grid_template_rows": null,
            "right": null,
            "justify_content": null,
            "_view_module": "@jupyter-widgets/base",
            "overflow": null,
            "_model_module_version": "1.2.0",
            "_view_count": null,
            "flex_flow": null,
            "width": null,
            "min_width": null,
            "border": null,
            "align_items": null,
            "bottom": null,
            "_model_module": "@jupyter-widgets/base",
            "top": null,
            "grid_column": null,
            "overflow_y": null,
            "overflow_x": null,
            "grid_auto_flow": null,
            "grid_area": null,
            "grid_template_columns": null,
            "flex": null,
            "_model_name": "LayoutModel",
            "justify_items": null,
            "grid_row": null,
            "max_height": null,
            "align_content": null,
            "visibility": null,
            "align_self": null,
            "height": null,
            "min_height": null,
            "padding": null,
            "grid_auto_rows": null,
            "grid_gap": null,
            "max_width": null,
            "order": null,
            "_view_module_version": "1.2.0",
            "grid_template_areas": null,
            "object_position": null,
            "object_fit": null,
            "grid_auto_columns": null,
            "margin": null,
            "display": null,
            "left": null
          }
        },
        "748513fe60104b0c9a5d376a93543367": {
          "model_module": "@jupyter-widgets/controls",
          "model_name": "DescriptionStyleModel",
          "state": {
            "_view_name": "StyleView",
            "_model_name": "DescriptionStyleModel",
            "description_width": "",
            "_view_module": "@jupyter-widgets/base",
            "_model_module_version": "1.5.0",
            "_view_count": null,
            "_view_module_version": "1.2.0",
            "_model_module": "@jupyter-widgets/controls"
          }
        },
        "db8c04fc2d4143008dbf5472eb5d3dee": {
          "model_module": "@jupyter-widgets/base",
          "model_name": "LayoutModel",
          "state": {
            "_view_name": "LayoutView",
            "grid_template_rows": null,
            "right": null,
            "justify_content": null,
            "_view_module": "@jupyter-widgets/base",
            "overflow": null,
            "_model_module_version": "1.2.0",
            "_view_count": null,
            "flex_flow": null,
            "width": null,
            "min_width": null,
            "border": null,
            "align_items": null,
            "bottom": null,
            "_model_module": "@jupyter-widgets/base",
            "top": null,
            "grid_column": null,
            "overflow_y": null,
            "overflow_x": null,
            "grid_auto_flow": null,
            "grid_area": null,
            "grid_template_columns": null,
            "flex": null,
            "_model_name": "LayoutModel",
            "justify_items": null,
            "grid_row": null,
            "max_height": null,
            "align_content": null,
            "visibility": null,
            "align_self": null,
            "height": null,
            "min_height": null,
            "padding": null,
            "grid_auto_rows": null,
            "grid_gap": null,
            "max_width": null,
            "order": null,
            "_view_module_version": "1.2.0",
            "grid_template_areas": null,
            "object_position": null,
            "object_fit": null,
            "grid_auto_columns": null,
            "margin": null,
            "display": null,
            "left": null
          }
        },
        "3d205a2c1c804d38a12254f537bf8a29": {
          "model_module": "@jupyter-widgets/controls",
          "model_name": "HBoxModel",
          "state": {
            "_view_name": "HBoxView",
            "_dom_classes": [],
            "_model_name": "HBoxModel",
            "_view_module": "@jupyter-widgets/controls",
            "_model_module_version": "1.5.0",
            "_view_count": null,
            "_view_module_version": "1.5.0",
            "box_style": "",
            "layout": "IPY_MODEL_1ff292f230b141fd9ab8237365a764a1",
            "_model_module": "@jupyter-widgets/controls",
            "children": [
              "IPY_MODEL_9efe75eae88b416c865cc52194710892",
              "IPY_MODEL_57775de7008a4e33ab327ae6970620a6"
            ]
          }
        },
        "1ff292f230b141fd9ab8237365a764a1": {
          "model_module": "@jupyter-widgets/base",
          "model_name": "LayoutModel",
          "state": {
            "_view_name": "LayoutView",
            "grid_template_rows": null,
            "right": null,
            "justify_content": null,
            "_view_module": "@jupyter-widgets/base",
            "overflow": null,
            "_model_module_version": "1.2.0",
            "_view_count": null,
            "flex_flow": null,
            "width": null,
            "min_width": null,
            "border": null,
            "align_items": null,
            "bottom": null,
            "_model_module": "@jupyter-widgets/base",
            "top": null,
            "grid_column": null,
            "overflow_y": null,
            "overflow_x": null,
            "grid_auto_flow": null,
            "grid_area": null,
            "grid_template_columns": null,
            "flex": null,
            "_model_name": "LayoutModel",
            "justify_items": null,
            "grid_row": null,
            "max_height": null,
            "align_content": null,
            "visibility": null,
            "align_self": null,
            "height": null,
            "min_height": null,
            "padding": null,
            "grid_auto_rows": null,
            "grid_gap": null,
            "max_width": null,
            "order": null,
            "_view_module_version": "1.2.0",
            "grid_template_areas": null,
            "object_position": null,
            "object_fit": null,
            "grid_auto_columns": null,
            "margin": null,
            "display": null,
            "left": null
          }
        },
        "9efe75eae88b416c865cc52194710892": {
          "model_module": "@jupyter-widgets/controls",
          "model_name": "FloatProgressModel",
          "state": {
            "_view_name": "ProgressView",
            "style": "IPY_MODEL_006e3550dc644ec1946653928f67f846",
            "_dom_classes": [],
            "description": "",
            "_model_name": "FloatProgressModel",
            "bar_style": "success",
            "max": 1,
            "_view_module": "@jupyter-widgets/controls",
            "_model_module_version": "1.5.0",
            "value": 1,
            "_view_count": null,
            "_view_module_version": "1.5.0",
            "orientation": "horizontal",
            "min": 0,
            "description_tooltip": null,
            "_model_module": "@jupyter-widgets/controls",
            "layout": "IPY_MODEL_9cf5dd86305243b498e2c0179b2529e2"
          }
        },
        "57775de7008a4e33ab327ae6970620a6": {
          "model_module": "@jupyter-widgets/controls",
          "model_name": "HTMLModel",
          "state": {
            "_view_name": "HTMLView",
            "style": "IPY_MODEL_085c8e8bed0d48f6b71e84d1ce4177c7",
            "_dom_classes": [],
            "description": "",
            "_model_name": "HTMLModel",
            "placeholder": "​",
            "_view_module": "@jupyter-widgets/controls",
            "_model_module_version": "1.5.0",
            "value": " 32768/? [00:01&lt;00:00, 19683.89it/s]",
            "_view_count": null,
            "_view_module_version": "1.5.0",
            "description_tooltip": null,
            "_model_module": "@jupyter-widgets/controls",
            "layout": "IPY_MODEL_d196e8a9315941f9ae1a39eefd787087"
          }
        },
        "006e3550dc644ec1946653928f67f846": {
          "model_module": "@jupyter-widgets/controls",
          "model_name": "ProgressStyleModel",
          "state": {
            "_view_name": "StyleView",
            "_model_name": "ProgressStyleModel",
            "description_width": "initial",
            "_view_module": "@jupyter-widgets/base",
            "_model_module_version": "1.5.0",
            "_view_count": null,
            "_view_module_version": "1.2.0",
            "bar_color": null,
            "_model_module": "@jupyter-widgets/controls"
          }
        },
        "9cf5dd86305243b498e2c0179b2529e2": {
          "model_module": "@jupyter-widgets/base",
          "model_name": "LayoutModel",
          "state": {
            "_view_name": "LayoutView",
            "grid_template_rows": null,
            "right": null,
            "justify_content": null,
            "_view_module": "@jupyter-widgets/base",
            "overflow": null,
            "_model_module_version": "1.2.0",
            "_view_count": null,
            "flex_flow": null,
            "width": null,
            "min_width": null,
            "border": null,
            "align_items": null,
            "bottom": null,
            "_model_module": "@jupyter-widgets/base",
            "top": null,
            "grid_column": null,
            "overflow_y": null,
            "overflow_x": null,
            "grid_auto_flow": null,
            "grid_area": null,
            "grid_template_columns": null,
            "flex": null,
            "_model_name": "LayoutModel",
            "justify_items": null,
            "grid_row": null,
            "max_height": null,
            "align_content": null,
            "visibility": null,
            "align_self": null,
            "height": null,
            "min_height": null,
            "padding": null,
            "grid_auto_rows": null,
            "grid_gap": null,
            "max_width": null,
            "order": null,
            "_view_module_version": "1.2.0",
            "grid_template_areas": null,
            "object_position": null,
            "object_fit": null,
            "grid_auto_columns": null,
            "margin": null,
            "display": null,
            "left": null
          }
        },
        "085c8e8bed0d48f6b71e84d1ce4177c7": {
          "model_module": "@jupyter-widgets/controls",
          "model_name": "DescriptionStyleModel",
          "state": {
            "_view_name": "StyleView",
            "_model_name": "DescriptionStyleModel",
            "description_width": "",
            "_view_module": "@jupyter-widgets/base",
            "_model_module_version": "1.5.0",
            "_view_count": null,
            "_view_module_version": "1.2.0",
            "_model_module": "@jupyter-widgets/controls"
          }
        },
        "d196e8a9315941f9ae1a39eefd787087": {
          "model_module": "@jupyter-widgets/base",
          "model_name": "LayoutModel",
          "state": {
            "_view_name": "LayoutView",
            "grid_template_rows": null,
            "right": null,
            "justify_content": null,
            "_view_module": "@jupyter-widgets/base",
            "overflow": null,
            "_model_module_version": "1.2.0",
            "_view_count": null,
            "flex_flow": null,
            "width": null,
            "min_width": null,
            "border": null,
            "align_items": null,
            "bottom": null,
            "_model_module": "@jupyter-widgets/base",
            "top": null,
            "grid_column": null,
            "overflow_y": null,
            "overflow_x": null,
            "grid_auto_flow": null,
            "grid_area": null,
            "grid_template_columns": null,
            "flex": null,
            "_model_name": "LayoutModel",
            "justify_items": null,
            "grid_row": null,
            "max_height": null,
            "align_content": null,
            "visibility": null,
            "align_self": null,
            "height": null,
            "min_height": null,
            "padding": null,
            "grid_auto_rows": null,
            "grid_gap": null,
            "max_width": null,
            "order": null,
            "_view_module_version": "1.2.0",
            "grid_template_areas": null,
            "object_position": null,
            "object_fit": null,
            "grid_auto_columns": null,
            "margin": null,
            "display": null,
            "left": null
          }
        },
        "0de71eeda8ff41d4a39f16f956299c18": {
          "model_module": "@jupyter-widgets/controls",
          "model_name": "HBoxModel",
          "state": {
            "_view_name": "HBoxView",
            "_dom_classes": [],
            "_model_name": "HBoxModel",
            "_view_module": "@jupyter-widgets/controls",
            "_model_module_version": "1.5.0",
            "_view_count": null,
            "_view_module_version": "1.5.0",
            "box_style": "",
            "layout": "IPY_MODEL_b3594ba381ce43ccbae2736bd3cdb74f",
            "_model_module": "@jupyter-widgets/controls",
            "children": [
              "IPY_MODEL_2c9d08c6f02f42148cb6b1bf7b7d6bcf",
              "IPY_MODEL_2d2a5cc8ef6d4e2b82224bce22b7a032"
            ]
          }
        },
        "b3594ba381ce43ccbae2736bd3cdb74f": {
          "model_module": "@jupyter-widgets/base",
          "model_name": "LayoutModel",
          "state": {
            "_view_name": "LayoutView",
            "grid_template_rows": null,
            "right": null,
            "justify_content": null,
            "_view_module": "@jupyter-widgets/base",
            "overflow": null,
            "_model_module_version": "1.2.0",
            "_view_count": null,
            "flex_flow": null,
            "width": null,
            "min_width": null,
            "border": null,
            "align_items": null,
            "bottom": null,
            "_model_module": "@jupyter-widgets/base",
            "top": null,
            "grid_column": null,
            "overflow_y": null,
            "overflow_x": null,
            "grid_auto_flow": null,
            "grid_area": null,
            "grid_template_columns": null,
            "flex": null,
            "_model_name": "LayoutModel",
            "justify_items": null,
            "grid_row": null,
            "max_height": null,
            "align_content": null,
            "visibility": null,
            "align_self": null,
            "height": null,
            "min_height": null,
            "padding": null,
            "grid_auto_rows": null,
            "grid_gap": null,
            "max_width": null,
            "order": null,
            "_view_module_version": "1.2.0",
            "grid_template_areas": null,
            "object_position": null,
            "object_fit": null,
            "grid_auto_columns": null,
            "margin": null,
            "display": null,
            "left": null
          }
        },
        "2c9d08c6f02f42148cb6b1bf7b7d6bcf": {
          "model_module": "@jupyter-widgets/controls",
          "model_name": "FloatProgressModel",
          "state": {
            "_view_name": "ProgressView",
            "style": "IPY_MODEL_703f2c2863724362ae58ac8107acfcd7",
            "_dom_classes": [],
            "description": "",
            "_model_name": "FloatProgressModel",
            "bar_style": "success",
            "max": 1,
            "_view_module": "@jupyter-widgets/controls",
            "_model_module_version": "1.5.0",
            "value": 1,
            "_view_count": null,
            "_view_module_version": "1.5.0",
            "orientation": "horizontal",
            "min": 0,
            "description_tooltip": null,
            "_model_module": "@jupyter-widgets/controls",
            "layout": "IPY_MODEL_d3377c50e39944dc870de89f945abb61"
          }
        },
        "2d2a5cc8ef6d4e2b82224bce22b7a032": {
          "model_module": "@jupyter-widgets/controls",
          "model_name": "HTMLModel",
          "state": {
            "_view_name": "HTMLView",
            "style": "IPY_MODEL_0b50c761d46b43cc8140acde15f5bef2",
            "_dom_classes": [],
            "description": "",
            "_model_name": "HTMLModel",
            "placeholder": "​",
            "_view_module": "@jupyter-widgets/controls",
            "_model_module_version": "1.5.0",
            "value": " 1654784/? [00:01&lt;00:00, 1220489.66it/s]",
            "_view_count": null,
            "_view_module_version": "1.5.0",
            "description_tooltip": null,
            "_model_module": "@jupyter-widgets/controls",
            "layout": "IPY_MODEL_9e042d9006cb4df99172171bcaff77cc"
          }
        },
        "703f2c2863724362ae58ac8107acfcd7": {
          "model_module": "@jupyter-widgets/controls",
          "model_name": "ProgressStyleModel",
          "state": {
            "_view_name": "StyleView",
            "_model_name": "ProgressStyleModel",
            "description_width": "initial",
            "_view_module": "@jupyter-widgets/base",
            "_model_module_version": "1.5.0",
            "_view_count": null,
            "_view_module_version": "1.2.0",
            "bar_color": null,
            "_model_module": "@jupyter-widgets/controls"
          }
        },
        "d3377c50e39944dc870de89f945abb61": {
          "model_module": "@jupyter-widgets/base",
          "model_name": "LayoutModel",
          "state": {
            "_view_name": "LayoutView",
            "grid_template_rows": null,
            "right": null,
            "justify_content": null,
            "_view_module": "@jupyter-widgets/base",
            "overflow": null,
            "_model_module_version": "1.2.0",
            "_view_count": null,
            "flex_flow": null,
            "width": null,
            "min_width": null,
            "border": null,
            "align_items": null,
            "bottom": null,
            "_model_module": "@jupyter-widgets/base",
            "top": null,
            "grid_column": null,
            "overflow_y": null,
            "overflow_x": null,
            "grid_auto_flow": null,
            "grid_area": null,
            "grid_template_columns": null,
            "flex": null,
            "_model_name": "LayoutModel",
            "justify_items": null,
            "grid_row": null,
            "max_height": null,
            "align_content": null,
            "visibility": null,
            "align_self": null,
            "height": null,
            "min_height": null,
            "padding": null,
            "grid_auto_rows": null,
            "grid_gap": null,
            "max_width": null,
            "order": null,
            "_view_module_version": "1.2.0",
            "grid_template_areas": null,
            "object_position": null,
            "object_fit": null,
            "grid_auto_columns": null,
            "margin": null,
            "display": null,
            "left": null
          }
        },
        "0b50c761d46b43cc8140acde15f5bef2": {
          "model_module": "@jupyter-widgets/controls",
          "model_name": "DescriptionStyleModel",
          "state": {
            "_view_name": "StyleView",
            "_model_name": "DescriptionStyleModel",
            "description_width": "",
            "_view_module": "@jupyter-widgets/base",
            "_model_module_version": "1.5.0",
            "_view_count": null,
            "_view_module_version": "1.2.0",
            "_model_module": "@jupyter-widgets/controls"
          }
        },
        "9e042d9006cb4df99172171bcaff77cc": {
          "model_module": "@jupyter-widgets/base",
          "model_name": "LayoutModel",
          "state": {
            "_view_name": "LayoutView",
            "grid_template_rows": null,
            "right": null,
            "justify_content": null,
            "_view_module": "@jupyter-widgets/base",
            "overflow": null,
            "_model_module_version": "1.2.0",
            "_view_count": null,
            "flex_flow": null,
            "width": null,
            "min_width": null,
            "border": null,
            "align_items": null,
            "bottom": null,
            "_model_module": "@jupyter-widgets/base",
            "top": null,
            "grid_column": null,
            "overflow_y": null,
            "overflow_x": null,
            "grid_auto_flow": null,
            "grid_area": null,
            "grid_template_columns": null,
            "flex": null,
            "_model_name": "LayoutModel",
            "justify_items": null,
            "grid_row": null,
            "max_height": null,
            "align_content": null,
            "visibility": null,
            "align_self": null,
            "height": null,
            "min_height": null,
            "padding": null,
            "grid_auto_rows": null,
            "grid_gap": null,
            "max_width": null,
            "order": null,
            "_view_module_version": "1.2.0",
            "grid_template_areas": null,
            "object_position": null,
            "object_fit": null,
            "grid_auto_columns": null,
            "margin": null,
            "display": null,
            "left": null
          }
        },
        "b9a8e88bae174980a90fe1f3eb5f44c4": {
          "model_module": "@jupyter-widgets/controls",
          "model_name": "HBoxModel",
          "state": {
            "_view_name": "HBoxView",
            "_dom_classes": [],
            "_model_name": "HBoxModel",
            "_view_module": "@jupyter-widgets/controls",
            "_model_module_version": "1.5.0",
            "_view_count": null,
            "_view_module_version": "1.5.0",
            "box_style": "",
            "layout": "IPY_MODEL_907e7056bd1f4e9e82751352f9105a48",
            "_model_module": "@jupyter-widgets/controls",
            "children": [
              "IPY_MODEL_7fc64f98702d4c0c8644af990387162c",
              "IPY_MODEL_bd57b6049be74903b3c6eb0a52aa2084"
            ]
          }
        },
        "907e7056bd1f4e9e82751352f9105a48": {
          "model_module": "@jupyter-widgets/base",
          "model_name": "LayoutModel",
          "state": {
            "_view_name": "LayoutView",
            "grid_template_rows": null,
            "right": null,
            "justify_content": null,
            "_view_module": "@jupyter-widgets/base",
            "overflow": null,
            "_model_module_version": "1.2.0",
            "_view_count": null,
            "flex_flow": null,
            "width": null,
            "min_width": null,
            "border": null,
            "align_items": null,
            "bottom": null,
            "_model_module": "@jupyter-widgets/base",
            "top": null,
            "grid_column": null,
            "overflow_y": null,
            "overflow_x": null,
            "grid_auto_flow": null,
            "grid_area": null,
            "grid_template_columns": null,
            "flex": null,
            "_model_name": "LayoutModel",
            "justify_items": null,
            "grid_row": null,
            "max_height": null,
            "align_content": null,
            "visibility": null,
            "align_self": null,
            "height": null,
            "min_height": null,
            "padding": null,
            "grid_auto_rows": null,
            "grid_gap": null,
            "max_width": null,
            "order": null,
            "_view_module_version": "1.2.0",
            "grid_template_areas": null,
            "object_position": null,
            "object_fit": null,
            "grid_auto_columns": null,
            "margin": null,
            "display": null,
            "left": null
          }
        },
        "7fc64f98702d4c0c8644af990387162c": {
          "model_module": "@jupyter-widgets/controls",
          "model_name": "FloatProgressModel",
          "state": {
            "_view_name": "ProgressView",
            "style": "IPY_MODEL_8cf396b8e7274e2d8829d569a896ca61",
            "_dom_classes": [],
            "description": "",
            "_model_name": "FloatProgressModel",
            "bar_style": "success",
            "max": 1,
            "_view_module": "@jupyter-widgets/controls",
            "_model_module_version": "1.5.0",
            "value": 1,
            "_view_count": null,
            "_view_module_version": "1.5.0",
            "orientation": "horizontal",
            "min": 0,
            "description_tooltip": null,
            "_model_module": "@jupyter-widgets/controls",
            "layout": "IPY_MODEL_1cd039f14b1848f49ed41a5dd10122c5"
          }
        },
        "bd57b6049be74903b3c6eb0a52aa2084": {
          "model_module": "@jupyter-widgets/controls",
          "model_name": "HTMLModel",
          "state": {
            "_view_name": "HTMLView",
            "style": "IPY_MODEL_0b2d307cdf834f93a05d5c2dd59b1162",
            "_dom_classes": [],
            "description": "",
            "_model_name": "HTMLModel",
            "placeholder": "​",
            "_view_module": "@jupyter-widgets/controls",
            "_model_module_version": "1.5.0",
            "value": " 8192/? [00:00&lt;00:00, 19028.88it/s]",
            "_view_count": null,
            "_view_module_version": "1.5.0",
            "description_tooltip": null,
            "_model_module": "@jupyter-widgets/controls",
            "layout": "IPY_MODEL_65a9b8880d6b4f3f845a4e1ec11c9370"
          }
        },
        "8cf396b8e7274e2d8829d569a896ca61": {
          "model_module": "@jupyter-widgets/controls",
          "model_name": "ProgressStyleModel",
          "state": {
            "_view_name": "StyleView",
            "_model_name": "ProgressStyleModel",
            "description_width": "initial",
            "_view_module": "@jupyter-widgets/base",
            "_model_module_version": "1.5.0",
            "_view_count": null,
            "_view_module_version": "1.2.0",
            "bar_color": null,
            "_model_module": "@jupyter-widgets/controls"
          }
        },
        "1cd039f14b1848f49ed41a5dd10122c5": {
          "model_module": "@jupyter-widgets/base",
          "model_name": "LayoutModel",
          "state": {
            "_view_name": "LayoutView",
            "grid_template_rows": null,
            "right": null,
            "justify_content": null,
            "_view_module": "@jupyter-widgets/base",
            "overflow": null,
            "_model_module_version": "1.2.0",
            "_view_count": null,
            "flex_flow": null,
            "width": null,
            "min_width": null,
            "border": null,
            "align_items": null,
            "bottom": null,
            "_model_module": "@jupyter-widgets/base",
            "top": null,
            "grid_column": null,
            "overflow_y": null,
            "overflow_x": null,
            "grid_auto_flow": null,
            "grid_area": null,
            "grid_template_columns": null,
            "flex": null,
            "_model_name": "LayoutModel",
            "justify_items": null,
            "grid_row": null,
            "max_height": null,
            "align_content": null,
            "visibility": null,
            "align_self": null,
            "height": null,
            "min_height": null,
            "padding": null,
            "grid_auto_rows": null,
            "grid_gap": null,
            "max_width": null,
            "order": null,
            "_view_module_version": "1.2.0",
            "grid_template_areas": null,
            "object_position": null,
            "object_fit": null,
            "grid_auto_columns": null,
            "margin": null,
            "display": null,
            "left": null
          }
        },
        "0b2d307cdf834f93a05d5c2dd59b1162": {
          "model_module": "@jupyter-widgets/controls",
          "model_name": "DescriptionStyleModel",
          "state": {
            "_view_name": "StyleView",
            "_model_name": "DescriptionStyleModel",
            "description_width": "",
            "_view_module": "@jupyter-widgets/base",
            "_model_module_version": "1.5.0",
            "_view_count": null,
            "_view_module_version": "1.2.0",
            "_model_module": "@jupyter-widgets/controls"
          }
        },
        "65a9b8880d6b4f3f845a4e1ec11c9370": {
          "model_module": "@jupyter-widgets/base",
          "model_name": "LayoutModel",
          "state": {
            "_view_name": "LayoutView",
            "grid_template_rows": null,
            "right": null,
            "justify_content": null,
            "_view_module": "@jupyter-widgets/base",
            "overflow": null,
            "_model_module_version": "1.2.0",
            "_view_count": null,
            "flex_flow": null,
            "width": null,
            "min_width": null,
            "border": null,
            "align_items": null,
            "bottom": null,
            "_model_module": "@jupyter-widgets/base",
            "top": null,
            "grid_column": null,
            "overflow_y": null,
            "overflow_x": null,
            "grid_auto_flow": null,
            "grid_area": null,
            "grid_template_columns": null,
            "flex": null,
            "_model_name": "LayoutModel",
            "justify_items": null,
            "grid_row": null,
            "max_height": null,
            "align_content": null,
            "visibility": null,
            "align_self": null,
            "height": null,
            "min_height": null,
            "padding": null,
            "grid_auto_rows": null,
            "grid_gap": null,
            "max_width": null,
            "order": null,
            "_view_module_version": "1.2.0",
            "grid_template_areas": null,
            "object_position": null,
            "object_fit": null,
            "grid_auto_columns": null,
            "margin": null,
            "display": null,
            "left": null
          }
        }
      }
    }
  },
  "cells": [
    {
      "cell_type": "code",
      "metadata": {
        "id": "szG_oIYjZiqt",
        "colab_type": "code",
        "colab": {
          "base_uri": "https://localhost:8080/",
          "height": 71
        },
        "outputId": "cfe0d6ea-3be5-4145-97c6-38464057e78d"
      },
      "source": [
        "import torch\n",
        "from torch import Tensor, Size\n",
        "from torch.nn.parameter import Parameter\n",
        "from torch.nn import functional as F\n",
        "from torch.nn import init\n",
        "\n",
        "import matplotlib.pyplot as plt\n",
        "import numpy as np\n",
        "import numbers\n",
        "from typing import Union, List\n",
        "\n",
        "import torchvision\n",
        "import torchvision.transforms as transforms\n",
        "import torch.nn as nn\n",
        "import torch.optim as optim\n",
        "import seaborn as sns"
      ],
      "execution_count": 2,
      "outputs": [
        {
          "output_type": "stream",
          "text": [
            "/usr/local/lib/python3.6/dist-packages/statsmodels/tools/_testing.py:19: FutureWarning: pandas.util.testing is deprecated. Use the functions in the public API at pandas.testing instead.\n",
            "  import pandas.util.testing as tm\n"
          ],
          "name": "stderr"
        }
      ]
    },
    {
      "cell_type": "code",
      "metadata": {
        "id": "Z6LRSGvpYWpz",
        "colab_type": "code",
        "colab": {
          "base_uri": "https://localhost:8080/",
          "height": 352,
          "referenced_widgets": [
            "f4e41b8484d241468a5423bd87f43880",
            "6d7f0a14fa294ce18177bbb9499d96cd",
            "a9562d23a7224ce5832eba15bbdbeb27",
            "f1c5e17d832643eaa6d70fd40f0d87e8",
            "20620bfd30354f4cb9c55b9ca8a40764",
            "1956f20119e04eb4aac146f3e71c202a",
            "748513fe60104b0c9a5d376a93543367",
            "db8c04fc2d4143008dbf5472eb5d3dee",
            "3d205a2c1c804d38a12254f537bf8a29",
            "1ff292f230b141fd9ab8237365a764a1",
            "9efe75eae88b416c865cc52194710892",
            "57775de7008a4e33ab327ae6970620a6",
            "006e3550dc644ec1946653928f67f846",
            "9cf5dd86305243b498e2c0179b2529e2",
            "085c8e8bed0d48f6b71e84d1ce4177c7",
            "d196e8a9315941f9ae1a39eefd787087",
            "0de71eeda8ff41d4a39f16f956299c18",
            "b3594ba381ce43ccbae2736bd3cdb74f",
            "2c9d08c6f02f42148cb6b1bf7b7d6bcf",
            "2d2a5cc8ef6d4e2b82224bce22b7a032",
            "703f2c2863724362ae58ac8107acfcd7",
            "d3377c50e39944dc870de89f945abb61",
            "0b50c761d46b43cc8140acde15f5bef2",
            "9e042d9006cb4df99172171bcaff77cc",
            "b9a8e88bae174980a90fe1f3eb5f44c4",
            "907e7056bd1f4e9e82751352f9105a48",
            "7fc64f98702d4c0c8644af990387162c",
            "bd57b6049be74903b3c6eb0a52aa2084",
            "8cf396b8e7274e2d8829d569a896ca61",
            "1cd039f14b1848f49ed41a5dd10122c5",
            "0b2d307cdf834f93a05d5c2dd59b1162",
            "65a9b8880d6b4f3f845a4e1ec11c9370"
          ]
        },
        "outputId": "6ec92e92-ee34-4193-b93a-9c1554f68229"
      },
      "source": [
        "trainset = torchvision.datasets.MNIST(root='./data', train=True, \n",
        "                                        download=True, \n",
        "                                        transform=transforms.ToTensor())"
      ],
      "execution_count": 3,
      "outputs": [
        {
          "output_type": "stream",
          "text": [
            "Downloading http://yann.lecun.com/exdb/mnist/train-images-idx3-ubyte.gz to ./data/MNIST/raw/train-images-idx3-ubyte.gz\n"
          ],
          "name": "stdout"
        },
        {
          "output_type": "display_data",
          "data": {
            "application/vnd.jupyter.widget-view+json": {
              "model_id": "f4e41b8484d241468a5423bd87f43880",
              "version_minor": 0,
              "version_major": 2
            },
            "text/plain": [
              "HBox(children=(FloatProgress(value=1.0, bar_style='info', max=1.0), HTML(value='')))"
            ]
          },
          "metadata": {
            "tags": []
          }
        },
        {
          "output_type": "stream",
          "text": [
            "Extracting ./data/MNIST/raw/train-images-idx3-ubyte.gz to ./data/MNIST/raw\n",
            "Downloading http://yann.lecun.com/exdb/mnist/train-labels-idx1-ubyte.gz to ./data/MNIST/raw/train-labels-idx1-ubyte.gz\n"
          ],
          "name": "stdout"
        },
        {
          "output_type": "display_data",
          "data": {
            "application/vnd.jupyter.widget-view+json": {
              "model_id": "3d205a2c1c804d38a12254f537bf8a29",
              "version_minor": 0,
              "version_major": 2
            },
            "text/plain": [
              "HBox(children=(FloatProgress(value=1.0, bar_style='info', max=1.0), HTML(value='')))"
            ]
          },
          "metadata": {
            "tags": []
          }
        },
        {
          "output_type": "stream",
          "text": [
            "Extracting ./data/MNIST/raw/train-labels-idx1-ubyte.gz to ./data/MNIST/raw\n",
            "Downloading http://yann.lecun.com/exdb/mnist/t10k-images-idx3-ubyte.gz to ./data/MNIST/raw/t10k-images-idx3-ubyte.gz\n"
          ],
          "name": "stdout"
        },
        {
          "output_type": "display_data",
          "data": {
            "application/vnd.jupyter.widget-view+json": {
              "model_id": "0de71eeda8ff41d4a39f16f956299c18",
              "version_minor": 0,
              "version_major": 2
            },
            "text/plain": [
              "HBox(children=(FloatProgress(value=1.0, bar_style='info', max=1.0), HTML(value='')))"
            ]
          },
          "metadata": {
            "tags": []
          }
        },
        {
          "output_type": "stream",
          "text": [
            "Extracting ./data/MNIST/raw/t10k-images-idx3-ubyte.gz to ./data/MNIST/raw\n",
            "Downloading http://yann.lecun.com/exdb/mnist/t10k-labels-idx1-ubyte.gz to ./data/MNIST/raw/t10k-labels-idx1-ubyte.gz\n"
          ],
          "name": "stdout"
        },
        {
          "output_type": "display_data",
          "data": {
            "application/vnd.jupyter.widget-view+json": {
              "model_id": "b9a8e88bae174980a90fe1f3eb5f44c4",
              "version_minor": 0,
              "version_major": 2
            },
            "text/plain": [
              "HBox(children=(FloatProgress(value=1.0, bar_style='info', max=1.0), HTML(value='')))"
            ]
          },
          "metadata": {
            "tags": []
          }
        },
        {
          "output_type": "stream",
          "text": [
            "Extracting ./data/MNIST/raw/t10k-labels-idx1-ubyte.gz to ./data/MNIST/raw\n",
            "Processing...\n",
            "Done!\n"
          ],
          "name": "stdout"
        },
        {
          "output_type": "stream",
          "text": [
            "/pytorch/torch/csrc/utils/tensor_numpy.cpp:141: UserWarning: The given NumPy array is not writeable, and PyTorch does not support non-writeable tensors. This means you can write to the underlying (supposedly non-writeable) NumPy array using the tensor. You may want to copy the array to protect its data or make it writeable before converting it to a tensor. This type of warning will be suppressed for the rest of this program.\n"
          ],
          "name": "stderr"
        }
      ]
    },
    {
      "cell_type": "code",
      "metadata": {
        "id": "HepMP5OG4jBf",
        "colab_type": "code",
        "colab": {}
      },
      "source": [
        "batch_size = 4"
      ],
      "execution_count": 4,
      "outputs": []
    },
    {
      "cell_type": "code",
      "metadata": {
        "id": "mmgASgkT4K49",
        "colab_type": "code",
        "colab": {}
      },
      "source": [
        "trainloader = torch.utils.data.DataLoader(trainset, batch_size=batch_size, shuffle=True)"
      ],
      "execution_count": 5,
      "outputs": []
    },
    {
      "cell_type": "code",
      "metadata": {
        "id": "VlHllN6EYcQ0",
        "colab_type": "code",
        "colab": {
          "base_uri": "https://localhost:8080/",
          "height": 102
        },
        "outputId": "b8c9fed0-cdfb-44f7-eec9-565a234de711"
      },
      "source": [
        "dataiter = iter(trainloader)\n",
        "images, labels = dataiter.next()\n",
        "\n",
        "print(images.shape)\n",
        "\n",
        "print(images[0].shape)\n",
        "print(labels[0].item())"
      ],
      "execution_count": 6,
      "outputs": [
        {
          "output_type": "stream",
          "text": [
            "\n",
            "\n",
            "torch.Size([4, 1, 28, 28])\n",
            "torch.Size([1, 28, 28])\n",
            "8\n"
          ],
          "name": "stdout"
        }
      ]
    },
    {
      "cell_type": "code",
      "metadata": {
        "id": "DwbU7xuyo_uI",
        "colab_type": "code",
        "colab": {}
      },
      "source": [
        "def imshow(img, title):\n",
        "    \n",
        "    plt.figure(figsize=(batch_size * 4, 4))\n",
        "    plt.axis('off')\n",
        "    plt.imshow(np.transpose(img, (1, 2, 0)))\n",
        "    plt.title(title)\n",
        "    plt.show()"
      ],
      "execution_count": 7,
      "outputs": []
    },
    {
      "cell_type": "code",
      "metadata": {
        "id": "qqrAaPIBpkAe",
        "colab_type": "code",
        "colab": {}
      },
      "source": [
        "def show_batch_images(dataloader):\n",
        "    images, labels = next(iter(dataloader))\n",
        "    \n",
        "    img = torchvision.utils.make_grid(images)\n",
        "    imshow(img, title=[str(x.item()) for x in labels])\n",
        "    \n",
        "    return images, labels"
      ],
      "execution_count": 8,
      "outputs": []
    },
    {
      "cell_type": "code",
      "metadata": {
        "id": "1LHrT1pIqZjv",
        "colab_type": "code",
        "colab": {
          "base_uri": "https://localhost:8080/",
          "height": 281
        },
        "outputId": "11f818fb-a9b8-4ba1-da19-32bc21a95449"
      },
      "source": [
        "images, labels = show_batch_images(trainloader)"
      ],
      "execution_count": 9,
      "outputs": [
        {
          "output_type": "display_data",
          "data": {
            "image/png": "[encoded data removed]",
            "text/plain": [
              "<Figure size 1152x288 with 1 Axes>"
            ]
          },
          "metadata": {
            "tags": [],
            "needs_background": "light"
          }
        },
        {
          "output_type": "stream",
          "text": [
            "\n"
          ],
          "name": "stdout"
        }
      ]
    },
    {
      "cell_type": "markdown",
      "metadata": {
        "id": "2ECnsG1yqZ2A",
        "colab_type": "text"
      },
      "source": [
        "##Model without Batchnorm"
      ]
    },
    {
      "cell_type": "code",
      "metadata": {
        "id": "0crAbGjFbcI6",
        "colab_type": "code",
        "colab": {}
      },
      "source": [
        "class MyNet(nn.Module):\n",
        "    def __init__(self): \n",
        "        super(MyNet, self).__init__()\n",
        "        self.classifier = nn.Sequential(\n",
        "            nn.Linear(784, 48),  # 28 x 28 = 784\n",
        "            nn.ReLU(),\n",
        "            nn.Linear(48, 24),\n",
        "            nn.ReLU(),\n",
        "            nn.Linear(24, 10)\n",
        "        )\n",
        "             \n",
        "    def forward(self, x):\n",
        "        x = x.view(x.size(0), -1)\n",
        "        x = self.classifier(x)\n",
        "        return x"
      ],
      "execution_count": 10,
      "outputs": []
    },
    {
      "cell_type": "markdown",
      "metadata": {
        "id": "BEZq8nPTAgXW",
        "colab_type": "text"
      },
      "source": [
        "##All the Norm classes"
      ]
    },
    {
      "cell_type": "code",
      "metadata": {
        "id": "CCZVLQ0z7kMi",
        "colab_type": "code",
        "colab": {}
      },
      "source": [
        "class Base(nn.Module):\n",
        "    _version = 2\n",
        "    __constants__ = ['track_running_stats', 'momentum', 'eps',\n",
        "                     'num_features', 'affine']\n",
        "    num_features: int\n",
        "    eps: float\n",
        "    momentum: float\n",
        "    affine: bool\n",
        "    track_running_stats: bool\n",
        "\n",
        "\n",
        "    def __init__(\n",
        "        self,\n",
        "        num_features: int,\n",
        "        eps: float = 1e-5,\n",
        "        momentum: float = 0.1,\n",
        "        affine: bool = True,\n",
        "        track_running_stats: bool = True\n",
        "    ) -> None:\n",
        "        super(Base, self).__init__()\n",
        "        self.num_features = num_features\n",
        "        self.eps = eps\n",
        "        self.momentum = momentum\n",
        "        self.affine = affine\n",
        "        self.track_running_stats = track_running_stats\n",
        "        if self.affine:\n",
        "            self.weight = Parameter(torch.Tensor(num_features))\n",
        "            self.bias = Parameter(torch.Tensor(num_features))\n",
        "        else:\n",
        "            self.register_parameter('weight', None)\n",
        "            self.register_parameter('bias', None)\n",
        "        if self.track_running_stats:\n",
        "            self.register_buffer('running_mean', torch.zeros(num_features))\n",
        "            self.register_buffer('running_var', torch.ones(num_features))\n",
        "            self.register_buffer('num_batches_tracked', torch.tensor(0, dtype=torch.long))\n",
        "        else:\n",
        "            self.register_parameter('running_mean', None)\n",
        "            self.register_parameter('running_var', None)\n",
        "            self.register_parameter('num_batches_tracked', None)\n",
        "        self.reset_parameters()\n",
        "\n",
        "    def reset_running_stats(self) -> None:\n",
        "        if self.track_running_stats:\n",
        "            self.running_mean.zero_()\n",
        "            self.running_var.fill_(1)\n",
        "            self.num_batches_tracked.zero_()\n",
        "\n",
        "    def reset_parameters(self) -> None:\n",
        "        self.reset_running_stats()\n",
        "        if self.affine:\n",
        "            init.ones_(self.weight)\n",
        "            init.zeros_(self.bias)\n",
        "\n",
        "    def extra_repr(self):\n",
        "        return '{num_features}, eps={eps}, momentum={momentum}, affine={affine}, ' \\\n",
        "               'track_running_stats={track_running_stats}'.format(**self.__dict__)\n",
        "\n",
        "    def _load_from_state_dict(self, state_dict, prefix, local_metadata, strict,\n",
        "                              missing_keys, unexpected_keys):\n",
        "        version = local_metadata.get('version', None)\n",
        "\n",
        "        if (version is None or version < 2) and self.track_running_stats:\n",
        "            num_batches_tracked_key = prefix + 'num_batches_tracked'\n",
        "            if num_batches_tracked_key not in state_dict:\n",
        "                state_dict[num_batches_tracked_key] = torch.tensor(0, dtype=torch.long)\n",
        "\n",
        "        super(Base, self)._load_from_state_dict(\n",
        "            state_dict, prefix, local_metadata, strict,\n",
        "            missing_keys, unexpected_keys)\n",
        "\n",
        "def batch_norm(input, running_mean, running_var, weight=None, bias=None, training=False, momentum=0.1, eps=1e-5):\n",
        "    if not torch.jit.is_scripting():\n",
        "        if type(input) is not Tensor and has_torch_function((input,)):\n",
        "            return handle_torch_function(\n",
        "                batch_norm, (input,), input, running_mean, running_var, weight=weight,\n",
        "                bias=bias, training=training, momentum=momentum, eps=eps)\n",
        "\n",
        "    return torch.batch_norm(\n",
        "        input, weight, bias, running_mean, running_var,\n",
        "        training, momentum, eps, torch.backends.cudnn.enabled\n",
        "    )\n",
        "\n",
        "class BatchNorm(Base):\n",
        "\n",
        "    def __init__(self, num_features, eps=1e-5, momentum=0.1, affine=True,\n",
        "                 track_running_stats=True):\n",
        "        super(BatchNorm, self).__init__(\n",
        "            num_features, eps, momentum, affine, track_running_stats)\n",
        "\n",
        "    def forward(self, input: Tensor) -> Tensor:\n",
        "\n",
        "        if self.momentum is None:\n",
        "            exponential_average_factor = 0.0\n",
        "        else:\n",
        "            exponential_average_factor = self.momentum\n",
        "\n",
        "        if self.training and self.track_running_stats:\n",
        "            if self.num_batches_tracked is not None:\n",
        "                self.num_batches_tracked = self.num_batches_tracked + 1\n",
        "                if self.momentum is None:  # use cumulative moving average\n",
        "                    exponential_average_factor = 1.0 / float(self.num_batches_tracked)\n",
        "                else:  # use exponential moving average\n",
        "                    exponential_average_factor = self.momentum\n",
        "\n",
        "        return batch_norm(\n",
        "            input, self.running_mean, self.running_var, self.weight, self.bias,\n",
        "            self.training or not self.track_running_stats,\n",
        "            exponential_average_factor, self.eps)\n",
        "\n"
      ],
      "execution_count": 11,
      "outputs": []
    },
    {
      "cell_type": "markdown",
      "metadata": {
        "id": "ioqzoaDYbe6j",
        "colab_type": "text"
      },
      "source": [
        "##Model with Batchnorm"
      ]
    },
    {
      "cell_type": "code",
      "metadata": {
        "id": "sCRxDqxK0VYn",
        "colab_type": "code",
        "colab": {}
      },
      "source": [
        "class MyNetBN(nn.Module):\n",
        "    def __init__(self): \n",
        "        super(MyNetBN, self).__init__()\n",
        "        self.classifier = nn.Sequential(\n",
        "            nn.Linear(784, 48),\n",
        "            BatchNorm(48),\n",
        "            nn.ReLU(),\n",
        "            nn.Linear(48, 24),\n",
        "            BatchNorm(24),\n",
        "            nn.ReLU(),\n",
        "            nn.Linear(24, 10)\n",
        "        )\n",
        "             \n",
        "    def forward(self, x):\n",
        "        x = x.view(x.size(0), -1)\n",
        "        x = self.classifier(x)\n",
        "        return x"
      ],
      "execution_count": 36,
      "outputs": []
    },
    {
      "cell_type": "code",
      "metadata": {
        "id": "TGo7PlegblPC",
        "colab_type": "code",
        "colab": {}
      },
      "source": [
        "model = MyNet()\n",
        "model_bn = MyNetBN()"
      ],
      "execution_count": 37,
      "outputs": []
    },
    {
      "cell_type": "code",
      "metadata": {
        "id": "6MAi-ac34uVn",
        "colab_type": "code",
        "colab": {}
      },
      "source": [
        "batch_size = 512"
      ],
      "execution_count": 38,
      "outputs": []
    },
    {
      "cell_type": "code",
      "metadata": {
        "id": "pRyHfsEa4uq6",
        "colab_type": "code",
        "colab": {}
      },
      "source": [
        "trainloader = torch.utils.data.DataLoader(trainset, batch_size=batch_size, shuffle=True)"
      ],
      "execution_count": 39,
      "outputs": []
    },
    {
      "cell_type": "code",
      "metadata": {
        "id": "bXewbpoX4u5-",
        "colab_type": "code",
        "colab": {}
      },
      "source": [
        "loss_fn = nn.CrossEntropyLoss()\n",
        "opt = optim.SGD(model.parameters(), lr=0.01)\n",
        "opt_bn = optim.SGD(model_bn.parameters(), lr=0.01)"
      ],
      "execution_count": 40,
      "outputs": []
    },
    {
      "cell_type": "code",
      "metadata": {
        "id": "HlYf1A7O4vLs",
        "colab_type": "code",
        "colab": {
          "base_uri": "https://localhost:8080/",
          "height": 1000
        },
        "outputId": "34a748b1-fccc-4faa-a069-a9a76cdbfc89"
      },
      "source": [
        "loss_arr = []\n",
        "loss_bn_arr = []\n",
        "\n",
        "max_epochs = 1\n",
        "\n",
        "for epoch in range(max_epochs):\n",
        "\n",
        "    for i, data in enumerate(trainloader, 0):\n",
        "\n",
        "        inputs, labels = data\n",
        "\n",
        "        # training steps for normal model\n",
        "        opt.zero_grad()\n",
        "        outputs = model(inputs)\n",
        "        loss = loss_fn(outputs, labels)\n",
        "        loss.backward()\n",
        "        opt.step()\n",
        "        \n",
        "        # training steps for bn model\n",
        "        opt_bn.zero_grad()\n",
        "        outputs_bn = model_bn(inputs)\n",
        "        loss_bn = loss_fn(outputs_bn, labels)\n",
        "        loss_bn.backward()\n",
        "        opt_bn.step()\n",
        "        \n",
        "        loss_arr.append(loss.item())\n",
        "        loss_bn_arr.append(loss_bn.item())\n",
        "        \n",
        "        if i % 10 == 0:\n",
        "        \n",
        "            inputs = inputs.view(inputs.size(0), -1)\n",
        "            \n",
        "            model.eval()\n",
        "            model_bn.eval()\n",
        "            \n",
        "            a = model.classifier[0](inputs)\n",
        "#             a = model.classifier[1](a)\n",
        "#             a = model.classifier[2](a)\n",
        "            a = a.detach().numpy().ravel()\n",
        "            sns.distplot(a, kde=True, color='r', label='Normal') \n",
        "            \n",
        "            b = model_bn.classifier[0](inputs)\n",
        "            b = model_bn.classifier[1](b)\n",
        "#             b = model_bn.classifier[2](b)\n",
        "#             b = model_bn.classifier[3](b)\n",
        "#             b = model_bn.classifier[4](b)\n",
        "            b = b.detach().numpy().ravel()\n",
        "            \n",
        "            sns.distplot(b, kde=True, color='g', label='BatchNorm') \n",
        "            plt.title('%d: Loss = %0.2f, Loss with bn = %0.2f' % (i, loss.item(), loss_bn.item()))\n",
        "            plt.legend()\n",
        "            plt.show()\n",
        "            plt.pause(0.5)\n",
        "            \n",
        "            model.train()\n",
        "            model_bn.train()\n",
        "        \n",
        "        \n",
        "    print('----------------------')\n",
        "\n",
        "    plt.plot(loss_arr, 'r', label='Normal')\n",
        "    plt.plot(loss_bn_arr, 'g', label='BatchNorm')\n",
        "    plt.legend()\n",
        "    plt.show()"
      ],
      "execution_count": 41,
      "outputs": [
        {
          "output_type": "display_data",
          "data": {
            "image/png": "[encoded data removed]",
            "text/plain": [
              "<Figure size 432x288 with 1 Axes>"
            ]
          },
          "metadata": {
            "tags": [],
            "needs_background": "light"
          }
        },
        {
          "output_type": "display_data",
          "data": {
            "image/png": "[encoded data removed]",
            "text/plain": [
              "<Figure size 432x288 with 1 Axes>"
            ]
          },
          "metadata": {
            "tags": [],
            "needs_background": "light"
          }
        },
        {
          "output_type": "display_data",
          "data": {
            "image/png": "[encoded data removed]",
            "text/plain": [
              "<Figure size 432x288 with 1 Axes>"
            ]
          },
          "metadata": {
            "tags": [],
            "needs_background": "light"
          }
        },
        {
          "output_type": "display_data",
          "data": {
            "image/png": "[encoded data removed]",
            "text/plain": [
              "<Figure size 432x288 with 1 Axes>"
            ]
          },
          "metadata": {
            "tags": [],
            "needs_background": "light"
          }
        },
        {
          "output_type": "display_data",
          "data": {
            "image/png": "[encoded data removed]",
            "text/plain": [
              "<Figure size 432x288 with 1 Axes>"
            ]
          },
          "metadata": {
            "tags": [],
            "needs_background": "light"
          }
        },
        {
          "output_type": "display_data",
          "data": {
            "image/png": "[encoded data removed]",
            "text/plain": [
              "<Figure size 432x288 with 1 Axes>"
            ]
          },
          "metadata": {
            "tags": [],
            "needs_background": "light"
          }
        },
        {
          "output_type": "display_data",
          "data": {
            "image/png": "[encoded data removed]",
            "text/plain": [
              "<Figure size 432x288 with 1 Axes>"
            ]
          },
          "metadata": {
            "tags": [],
            "needs_background": "light"
          }
        },
        {
          "output_type": "display_data",
          "data": {
            "image/png": "[encoded data removed]",
            "text/plain": [
              "<Figure size 432x288 with 1 Axes>"
            ]
          },
          "metadata": {
            "tags": [],
            "needs_background": "light"
          }
        },
        {
          "output_type": "display_data",
          "data": {
            "image/png": "[encoded data removed]",
            "text/plain": [
              "<Figure size 432x288 with 1 Axes>"
            ]
          },
          "metadata": {
            "tags": [],
            "needs_background": "light"
          }
        },
        {
          "output_type": "display_data",
          "data": {
            "image/png": "[encoded data removed]",
            "text/plain": [
              "<Figure size 432x288 with 1 Axes>"
            ]
          },
          "metadata": {
            "tags": [],
            "needs_background": "light"
          }
        },
        {
          "output_type": "display_data",
          "data": {
            "image/png": "[encoded data removed]",
            "text/plain": [
              "<Figure size 432x288 with 1 Axes>"
            ]
          },
          "metadata": {
            "tags": [],
            "needs_background": "light"
          }
        },
        {
          "output_type": "display_data",
          "data": {
            "image/png": "[encoded data removed]",
            "text/plain": [
              "<Figure size 432x288 with 1 Axes>"
            ]
          },
          "metadata": {
            "tags": [],
            "needs_background": "light"
          }
        },
        {
          "output_type": "stream",
          "text": [
            "----------------------\n"
          ],
          "name": "stdout"
        },
        {
          "output_type": "display_data",
          "data": {
            "image/png": "[encoded data removed]",
            "text/plain": [
              "<Figure size 432x288 with 1 Axes>"
            ]
          },
          "metadata": {
            "tags": [],
            "needs_background": "light"
          }
        }
      ]
    },
    {
      "cell_type": "code",
      "metadata": {
        "id": "sTXFbETwIBbg",
        "colab_type": "code",
        "colab": {
          "base_uri": "https://localhost:8080/",
          "height": 1000
        },
        "outputId": "8060ad92-371e-43b4-8fa9-38351c429b35"
      },
      "source": [
        "import math\n",
        "import torch\n",
        "import torch.nn as nn\n",
        "import torch.nn.functional as F\n",
        "from torch import Tensor\n",
        "from torch.nn import Parameter\n",
        "from torch.autograd import Variable\n",
        "\n",
        "use_cuda = torch.cuda.is_available()\n",
        "\n",
        "class LSTM(nn.Module):\n",
        "    def __init__(self,\n",
        "                 input_size,\n",
        "                 hidden_size,\n",
        "                 num_layers=1,\n",
        "                 dropout=0,\n",
        "                 bidirectional=1,\n",
        "                 batch_first=False,\n",
        "                 cln=True):\n",
        "        super(LSTM, self).__init__()\n",
        "        self.input_size = input_size\n",
        "        self.hidden_size = hidden_size\n",
        "        self.num_layers = num_layers\n",
        "        self.direction = bidirectional + 1\n",
        "        self.batch_first = batch_first\n",
        "\n",
        "        layers = []\n",
        "        for i in range(num_layers):\n",
        "            for j in range(self.direction):\n",
        "                layer = LayerNormLSTM(input_size*self.direction,\n",
        "                                      hidden_size,\n",
        "                                      dropout=dropout,\n",
        "                                      cln=cln)\n",
        "                layers.append(layer)\n",
        "            input_size = hidden_size\n",
        "        self.layers = layers\n",
        "        self.params = nn.ModuleList(layers)\n",
        "\n",
        "    def reset_parameters(self):\n",
        "        for l in self.layers:\n",
        "            l.reset_parameters()\n",
        "\n",
        "    def init_hidden(self, batch_size):\n",
        "        # Uses Xavier init here.\n",
        "        hiddens = []\n",
        "        for l in self.layers:\n",
        "            std = math.sqrt(2.0 / (l.input_size + l.hidden_size))\n",
        "            h = Variable(Tensor(1, batch_size, l.hidden_size).normal_(0, std))\n",
        "            c = Variable(Tensor(1, batch_size, l.hidden_size).normal_(0, std))\n",
        "            if use_cuda:\n",
        "                hiddens.append((h.cuda(), c.cuda()))\n",
        "            else:\n",
        "                hiddens.append((h, c))\n",
        "        return hiddens\n",
        "\n",
        "    def layer_forward(self, l, xs, h, image_emb, reverse=False):\n",
        "        '''\n",
        "        return:\n",
        "            xs: (seq_len, batch, hidden)\n",
        "            h: (1, batch, hidden)\n",
        "        '''\n",
        "        if self.batch_first:\n",
        "            xs = xs.permute(1, 0, 2).contiguous()\n",
        "        ys = []\n",
        "        for i in range(xs.size(0)):\n",
        "            if reverse:\n",
        "                x = xs.narrow(0, (xs.size(0)-1)-i, 1)\n",
        "            else:\n",
        "                x = xs.narrow(0, i, 1)\n",
        "            y, h = l(x, h, image_emb)\n",
        "            ys.append(y)\n",
        "        y = torch.cat(ys, 0)\n",
        "        return y, h\n",
        "\n",
        "    def forward(self, x, hiddens, image_emb=None):\n",
        "        if self.direction > 1:\n",
        "            x = torch.cat((x, x), 2)\n",
        "        if type(hiddens) != list:\n",
        "            # when the hidden feed is (direction * num_layer, batch, hidden)\n",
        "            tmp = []\n",
        "            for idx in range(hiddens[0].size(0)):\n",
        "                tmp.append((hiddens[0].narrow(0, idx, 1),\n",
        "                           (hiddens[1].narrow(0, idx, 1))))\n",
        "            hiddens = tmp\n",
        "\n",
        "        new_hs = []\n",
        "        new_cs = []\n",
        "        for l_idx in range(0, len(self.layers), self.direction):\n",
        "            l, h = self.layers[l_idx], hiddens[l_idx]\n",
        "            f_x, f_h = self.layer_forward(l, x, h, image_emb)\n",
        "            if self.direction > 1:\n",
        "                l, h  = self.layers[l_idx+1], hiddens[l_idx+1]\n",
        "                r_x, r_h = self.layer_forward(l, x, h, image_emb, reverse=True)\n",
        "\n",
        "                x = torch.cat((f_x, r_x), 2)\n",
        "                h = torch.cat((f_h[0], r_h[0]), 0)\n",
        "                c = torch.cat((f_h[1], r_h[1]), 0)\n",
        "            else:\n",
        "                x = f_x\n",
        "                h, c = f_h\n",
        "            new_hs.append(h)\n",
        "            new_cs.append(c)\n",
        "\n",
        "        h = torch.cat(new_hs, 0)\n",
        "        c = torch.cat(new_cs, 0)\n",
        "        if self.batch_first:\n",
        "            x = x.permute(1, 0, 2)\n",
        "        return x, (h, c)\n",
        "\n",
        "class CLN(nn.Module):\n",
        "    \"\"\"\n",
        "    Conditioned Layer Normalization\n",
        "    \"\"\"\n",
        "    def __init__(self, input_size, image_size, epsilon=1e-6):\n",
        "        super(CLN, self).__init__()\n",
        "        self.input_size = input_size\n",
        "        self.image_size = image_size\n",
        "        self.alpha = Tensor(1, input_size).fill_(1)\n",
        "        self.beta = Tensor(1, input_size).fill_(0)\n",
        "        self.epsilon = epsilon\n",
        "\n",
        "        self.alpha = Parameter(self.alpha)\n",
        "        self.beta = Parameter(self.beta)\n",
        "\n",
        "        # MLP used to predict delta of alpha, beta\n",
        "        self.fc_alpha = nn.Linear(self.image_size, self.input_size)\n",
        "        self.fc_beta = nn.Linear(self.image_size, self.input_size)\n",
        "\n",
        "        self.reset_parameters()\n",
        "\n",
        "    def reset_parameters(self):\n",
        "        std = 1.0 / math.sqrt(self.input_size)\n",
        "        for w in self.parameters():\n",
        "            w.data.uniform_(-std, std)\n",
        "\n",
        "    def create_cln_input(self, image_emb):\n",
        "        delta_alpha = self.fc_alpha(image_emb)\n",
        "        delta_beta = self.fc_beta(image_emb)\n",
        "        return delta_alpha, delta_beta\n",
        "\n",
        "    def forward(self, x, image_emb):\n",
        "        if image_emb is None:\n",
        "            return x\n",
        "        # x: (batch, input_size)\n",
        "        size = x.size()\n",
        "        x = x.view(x.size(0), -1)\n",
        "        x = (x - torch.mean(x, 1).unsqueeze(1).expand_as(x)) / torch.sqrt(torch.var(x, 1).unsqueeze(1).expand_as(x) + self.epsilon)\n",
        "\n",
        "        delta_alpha, delta_beta = self.create_cln_input(image_emb)\n",
        "        alpha = self.alpha.expand_as(x) + delta_alpha\n",
        "        beta = self.beta.expand_as(x) + delta_beta\n",
        "        x =  alpha * x + beta\n",
        "        return x.view(size)\n",
        "\n",
        "class LayerNorm(nn.Module):\n",
        "    \"\"\"\n",
        "    Layer Normalization based on Ba & al.:\n",
        "    'Layer Normalization'\n",
        "    https://arxiv.org/pdf/1607.06450.pdf\n",
        "    \"\"\"\n",
        "\n",
        "    def __init__(self, input_size, learnable=True, epsilon=1e-6):\n",
        "        super(LayerNorm, self).__init__()\n",
        "        self.input_size = input_size\n",
        "        self.learnable = learnable\n",
        "        self.alpha = Tensor(1, input_size).fill_(1)\n",
        "        self.beta = Tensor(1, input_size).fill_(0)\n",
        "        self.epsilon = epsilon\n",
        "        # Wrap as parameters if necessary\n",
        "        if learnable:\n",
        "            W = Parameter\n",
        "        else:\n",
        "            W = Variable\n",
        "        self.alpha = W(self.alpha)\n",
        "        self.beta = W(self.beta)\n",
        "        self.reset_parameters()\n",
        "\n",
        "    def reset_parameters(self):\n",
        "        std = 1.0 / math.sqrt(self.input_size)\n",
        "        for w in self.parameters():\n",
        "            w.data.uniform_(-std, std)\n",
        "\n",
        "    def forward(self, x):\n",
        "        size = x.size()\n",
        "        x = x.view(x.size(0), -1)\n",
        "        x = (x - torch.mean(x, 1).unsqueeze(1).expand_as(x)) / torch.sqrt(torch.var(x, 1).unsqueeze(1).expand_as(x) + self.epsilon)\n",
        "        if self.learnable:\n",
        "            x =  self.alpha.expand_as(x) * x + self.beta.expand_as(x)\n",
        "        return x.view(size)\n",
        "\n",
        "class LSTMcell(nn.Module):\n",
        "\n",
        "    \"\"\"\n",
        "    An implementation of Hochreiter & Schmidhuber:\n",
        "    'Long-Short Term Memory'\n",
        "    http://www.bioinf.jku.at/publications/older/2604.pdf\n",
        "    Special args:\n",
        "    dropout_method: one of\n",
        "            * pytorch: default dropout implementation\n",
        "            * gal: uses GalLSTM's dropout\n",
        "            * moon: uses MoonLSTM's dropout\n",
        "            * semeniuta: uses SemeniutaLSTM's dropout\n",
        "    \"\"\"\n",
        "\n",
        "    def __init__(self, input_size, hidden_size, bias=True, dropout=0.0, dropout_method='pytorch'):\n",
        "        super(LSTMcell, self).__init__()\n",
        "        self.input_size = input_size\n",
        "        self.hidden_size = hidden_size\n",
        "        self.bias = bias\n",
        "        self.dropout = dropout\n",
        "        self.i2h = nn.Linear(input_size, 4 * hidden_size, bias=bias)\n",
        "        self.h2h = nn.Linear(hidden_size, 4 * hidden_size, bias=bias)\n",
        "        self.reset_parameters()\n",
        "        assert(dropout_method.lower() in ['pytorch', 'gal', 'moon', 'semeniuta'])\n",
        "        self.dropout_method = dropout_method\n",
        "\n",
        "    def sample_mask(self):\n",
        "        keep = 1.0 - self.dropout\n",
        "        self.mask = Variable(torch.bernoulli(Tensor(1, self.hidden_size).fill_(keep)))\n",
        "\n",
        "    def reset_parameters(self):\n",
        "        std = 1.0 / math.sqrt(self.hidden_size)\n",
        "        for w in self.parameters():\n",
        "            w.data.uniform_(-std, std)\n",
        "\n",
        "    def forward(self, x, hidden):\n",
        "        do_dropout = self.training and self.dropout > 0.0\n",
        "        h, c = hidden\n",
        "        h = h.view(h.size(1), -1)\n",
        "        c = c.view(c.size(1), -1)\n",
        "        x = x.view(x.size(1), -1)\n",
        "\n",
        "        # Linear mappings\n",
        "        preact = self.i2h(x) + self.h2h(h)\n",
        "\n",
        "        # activations\n",
        "        gates = preact[:, :3 * self.hidden_size].sigmoid()\n",
        "        g_t = preact[:, 3 * self.hidden_size:].tanh()\n",
        "        i_t = gates[:, :self.hidden_size]\n",
        "        f_t = gates[:, self.hidden_size:2 * self.hidden_size]\n",
        "        o_t = gates[:, -self.hidden_size:]\n",
        "\n",
        "        # cell computations\n",
        "        if do_dropout and self.dropout_method == 'semeniuta':\n",
        "            g_t = F.dropout(g_t, p=self.dropout, training=self.training)\n",
        "\n",
        "        c_t = torch.mul(c, f_t) + torch.mul(i_t, g_t)\n",
        "\n",
        "        if do_dropout and self.dropout_method == 'moon':\n",
        "                c_t.data.set_(torch.mul(c_t, self.mask).data)\n",
        "                c_t.data *= 1.0/(1.0 - self.dropout)\n",
        "\n",
        "        h_t = torch.mul(o_t, c_t.tanh())\n",
        "\n",
        "        # Reshape for compatibility\n",
        "        if do_dropout:\n",
        "            if self.dropout_method == 'pytorch':\n",
        "                F.dropout(h_t, p=self.dropout, training=self.training, inplace=True)\n",
        "            if self.dropout_method == 'gal':\n",
        "                    h_t.data.set_(th.mul(h_t, self.mask).data)\n",
        "                    h_t.data *= 1.0/(1.0 - self.dropout)\n",
        "\n",
        "        h_t = h_t.view(1, h_t.size(0), -1)\n",
        "        c_t = c_t.view(1, c_t.size(0), -1)\n",
        "        return h_t, (h_t, c_t)\n",
        "\n",
        "class LayerNormLSTM(LSTMcell):\n",
        "\n",
        "    def __init__(self,\n",
        "                 input_size,\n",
        "                 hidden_size,\n",
        "                 bias=True,\n",
        "                 dropout=0.0,\n",
        "                 dropout_method='pytorch',\n",
        "                 ln_preact=True,\n",
        "                 learnable=True,\n",
        "                 cln=True):\n",
        "        super(LayerNormLSTM, self).__init__(input_size=input_size,\n",
        "                                            hidden_size=hidden_size,\n",
        "                                            bias=bias,\n",
        "                                            dropout=dropout,\n",
        "                                            dropout_method=dropout_method)\n",
        "        self.cln = cln\n",
        "        if ln_preact:\n",
        "            if self.cln:\n",
        "                self.ln_i2h = CLN(4*hidden_size, 1024)\n",
        "                self.ln_h2h = CLN(4*hidden_size, 1024)\n",
        "            else:\n",
        "                self.ln_h2h = LayerNorm(4*hidden_size, learnable=learnable)\n",
        "                self.ln_i2h = LayerNorm(4*hidden_size, learnable=learnable)\n",
        "        self.ln_preact = ln_preact\n",
        "        if self.cln:\n",
        "            self.ln_cell = CLN(hidden_size, 1024)\n",
        "        else:\n",
        "            self.ln_cell = LayerNorm(hidden_size, learnable=learnable)\n",
        "\n",
        "    def forward(self, x, hidden, image_emb=None):\n",
        "        do_dropout = self.training and self.dropout > 0.0\n",
        "        h, c = hidden\n",
        "        h = h.view(h.size(1), -1)\n",
        "        c = c.view(c.size(1), -1)\n",
        "        x = x.view(x.size(1), -1)\n",
        "\n",
        "        # Linear mappings\n",
        "        i2h = self.i2h(x)\n",
        "        h2h = self.h2h(h)\n",
        "        if self.ln_preact:\n",
        "            if self.cln:\n",
        "                i2h = self.ln_i2h(i2h, image_emb)\n",
        "                h2h = self.ln_h2h(h2h, image_emb)\n",
        "            else:\n",
        "                i2h = self.ln_i2h(i2h)\n",
        "                h2h = self.ln_h2h(h2h)\n",
        "        preact = i2h + h2h\n",
        "\n",
        "        # activations\n",
        "        gates = preact[:, :3 * self.hidden_size].sigmoid()\n",
        "        g_t = preact[:, 3 * self.hidden_size:].tanh()\n",
        "        i_t = gates[:, :self.hidden_size]\n",
        "        f_t = gates[:, self.hidden_size:2 * self.hidden_size]\n",
        "        o_t = gates[:, -self.hidden_size:]\n",
        "\n",
        "        # cell computations\n",
        "        if do_dropout and self.dropout_method == 'semeniuta':\n",
        "            g_t = F.dropout(g_t, p=self.dropout, training=self.training)\n",
        "\n",
        "        c_t = torch.mul(c, f_t) + torch.mul(i_t, g_t)\n",
        "\n",
        "        if do_dropout and self.dropout_method == 'moon':\n",
        "                c_t.data.set_(torch.mul(c_t, self.mask).data)\n",
        "                c_t.data *= 1.0/(1.0 - self.dropout)\n",
        "\n",
        "        if self.cln:\n",
        "            c_t = self.ln_cell(c_t, image_emb)\n",
        "        else:\n",
        "            c_t = self.ln_cell(c_t)\n",
        "        h_t = torch.mul(o_t, c_t.tanh())\n",
        "\n",
        "        # Reshape for compatibility\n",
        "        if do_dropout:\n",
        "            if self.dropout_method == 'pytorch':\n",
        "                F.dropout(h_t, p=self.dropout, training=self.training, inplace=True)\n",
        "            if self.dropout_method == 'gal':\n",
        "                    h_t.data.set_(torch.mul(h_t, self.mask).data)\n",
        "                    h_t.data *= 1.0/(1.0 - self.dropout)\n",
        "\n",
        "        h_t = h_t.view(1, h_t.size(0), -1)\n",
        "        c_t = c_t.view(1, c_t.size(0), -1)\n",
        "        return h_t, (h_t, c_t)\n",
        "\n",
        "if __name__ == '__main__':\n",
        "    model = LSTM(50, 100, 2)\n",
        "    x = Variable(Tensor(50, 32, 50))\n",
        "    #h = model.init_hidden(32)\n",
        "    h = (Variable(Tensor(2*2, 32, 100)),\n",
        "         Variable(Tensor(2*2, 32, 100)))\n",
        "    print(model(x, h))"
      ],
      "execution_count": 43,
      "outputs": [
        {
          "output_type": "stream",
          "text": [
            "(tensor([[[-0.0283,  0.0102, -0.0076,  ...,  0.0327, -0.0025, -0.0007],\n",
            "         [-0.0283,  0.0102, -0.0076,  ...,  0.0327, -0.0025, -0.0007],\n",
            "         [-0.0283,  0.0102, -0.0076,  ...,  0.0327, -0.0025, -0.0007],\n",
            "         ...,\n",
            "         [-0.0283,  0.0102, -0.0076,  ...,  0.0327, -0.0025, -0.0007],\n",
            "         [-0.0283,  0.0102, -0.0076,  ...,  0.0327, -0.0025, -0.0007],\n",
            "         [-0.0283,  0.0102, -0.0076,  ...,  0.0327, -0.0025, -0.0007]],\n",
            "\n",
            "        [[-0.0458,  0.0133, -0.0159,  ...,  0.0527, -0.0078,  0.0013],\n",
            "         [-0.0458,  0.0133, -0.0159,  ...,  0.0527, -0.0078,  0.0013],\n",
            "         [-0.0458,  0.0133, -0.0159,  ...,  0.0527, -0.0078,  0.0013],\n",
            "         ...,\n",
            "         [-0.0458,  0.0133, -0.0159,  ...,  0.0527, -0.0078,  0.0013],\n",
            "         [-0.0458,  0.0133, -0.0159,  ...,  0.0527, -0.0078,  0.0013],\n",
            "         [-0.0458,  0.0133, -0.0159,  ...,  0.0527, -0.0078,  0.0013]],\n",
            "\n",
            "        [[-0.0556,  0.0136, -0.0222,  ...,  0.0645, -0.0117,  0.0028],\n",
            "         [-0.0556,  0.0136, -0.0222,  ...,  0.0645, -0.0117,  0.0028],\n",
            "         [-0.0556,  0.0136, -0.0222,  ...,  0.0645, -0.0117,  0.0028],\n",
            "         ...,\n",
            "         [-0.0556,  0.0136, -0.0222,  ...,  0.0645, -0.0117,  0.0028],\n",
            "         [-0.0556,  0.0136, -0.0222,  ...,  0.0645, -0.0117,  0.0028],\n",
            "         [-0.0556,  0.0136, -0.0222,  ...,  0.0645, -0.0117,  0.0028]],\n",
            "\n",
            "        ...,\n",
            "\n",
            "        [[-0.0647,  0.0087, -0.0332,  ...,  0.0766, -0.0134,  0.0022],\n",
            "         [-0.0647,  0.0087, -0.0332,  ...,  0.0766, -0.0134,  0.0022],\n",
            "         [-0.0647,  0.0087, -0.0332,  ...,  0.0766, -0.0134,  0.0022],\n",
            "         ...,\n",
            "         [-0.0647,  0.0087, -0.0332,  ...,  0.0766, -0.0134,  0.0022],\n",
            "         [-0.0647,  0.0087, -0.0332,  ...,  0.0766, -0.0134,  0.0022],\n",
            "         [-0.0647,  0.0087, -0.0332,  ...,  0.0766, -0.0134,  0.0022]],\n",
            "\n",
            "        [[-0.0647,  0.0087, -0.0332,  ...,  0.0764, -0.0118, -0.0002],\n",
            "         [-0.0647,  0.0087, -0.0332,  ...,  0.0764, -0.0118, -0.0002],\n",
            "         [-0.0647,  0.0087, -0.0332,  ...,  0.0764, -0.0118, -0.0002],\n",
            "         ...,\n",
            "         [-0.0647,  0.0087, -0.0332,  ...,  0.0764, -0.0118, -0.0002],\n",
            "         [-0.0647,  0.0087, -0.0332,  ...,  0.0764, -0.0118, -0.0002],\n",
            "         [-0.0647,  0.0087, -0.0332,  ...,  0.0764, -0.0118, -0.0002]],\n",
            "\n",
            "        [[-0.0647,  0.0087, -0.0332,  ...,  0.0762, -0.0089, -0.0041],\n",
            "         [-0.0647,  0.0087, -0.0332,  ...,  0.0762, -0.0089, -0.0041],\n",
            "         [-0.0647,  0.0087, -0.0332,  ...,  0.0762, -0.0089, -0.0041],\n",
            "         ...,\n",
            "         [-0.0647,  0.0087, -0.0332,  ...,  0.0762, -0.0089, -0.0041],\n",
            "         [-0.0647,  0.0087, -0.0332,  ...,  0.0762, -0.0089, -0.0041],\n",
            "         [-0.0647,  0.0087, -0.0332,  ...,  0.0762, -0.0089, -0.0041]]],\n",
            "       grad_fn=<CatBackward>), (tensor([[[ 0.0491, -0.0111, -0.0218,  ...,  0.0097, -0.0038,  0.0060],\n",
            "         [ 0.0491, -0.0111, -0.0218,  ...,  0.0097, -0.0038,  0.0060],\n",
            "         [ 0.0491, -0.0111, -0.0218,  ...,  0.0097, -0.0038,  0.0060],\n",
            "         ...,\n",
            "         [ 0.0491, -0.0111, -0.0218,  ...,  0.0097, -0.0038,  0.0060],\n",
            "         [ 0.0491, -0.0111, -0.0218,  ...,  0.0097, -0.0038,  0.0060],\n",
            "         [ 0.0491, -0.0111, -0.0218,  ...,  0.0097, -0.0038,  0.0060]],\n",
            "\n",
            "        [[ 0.0608,  0.0083, -0.0071,  ..., -0.0084, -0.0112, -0.0422],\n",
            "         [ 0.0608,  0.0083, -0.0071,  ..., -0.0084, -0.0112, -0.0422],\n",
            "         [ 0.0608,  0.0083, -0.0071,  ..., -0.0084, -0.0112, -0.0422],\n",
            "         ...,\n",
            "         [ 0.0608,  0.0083, -0.0071,  ..., -0.0084, -0.0112, -0.0422],\n",
            "         [ 0.0608,  0.0083, -0.0071,  ..., -0.0084, -0.0112, -0.0422],\n",
            "         [ 0.0608,  0.0083, -0.0071,  ..., -0.0084, -0.0112, -0.0422]],\n",
            "\n",
            "        [[-0.0647,  0.0087, -0.0332,  ...,  0.0214,  0.0041, -0.0062],\n",
            "         [-0.0647,  0.0087, -0.0332,  ...,  0.0214,  0.0041, -0.0062],\n",
            "         [-0.0647,  0.0087, -0.0332,  ...,  0.0214,  0.0041, -0.0062],\n",
            "         ...,\n",
            "         [-0.0647,  0.0087, -0.0332,  ...,  0.0214,  0.0041, -0.0062],\n",
            "         [-0.0647,  0.0087, -0.0332,  ...,  0.0214,  0.0041, -0.0062],\n",
            "         [-0.0647,  0.0087, -0.0332,  ...,  0.0214,  0.0041, -0.0062]],\n",
            "\n",
            "        [[ 0.0427,  0.0342, -0.0803,  ...,  0.0762, -0.0089, -0.0041],\n",
            "         [ 0.0427,  0.0342, -0.0803,  ...,  0.0762, -0.0089, -0.0041],\n",
            "         [ 0.0427,  0.0342, -0.0803,  ...,  0.0762, -0.0089, -0.0041],\n",
            "         ...,\n",
            "         [ 0.0427,  0.0342, -0.0803,  ...,  0.0762, -0.0089, -0.0041],\n",
            "         [ 0.0427,  0.0342, -0.0803,  ...,  0.0762, -0.0089, -0.0041],\n",
            "         [ 0.0427,  0.0342, -0.0803,  ...,  0.0762, -0.0089, -0.0041]]],\n",
            "       grad_fn=<CatBackward>), tensor([[[ 0.1078, -0.0245, -0.0484,  ...,  0.0184, -0.0077,  0.0122],\n",
            "         [ 0.1078, -0.0245, -0.0484,  ...,  0.0184, -0.0077,  0.0122],\n",
            "         [ 0.1078, -0.0245, -0.0484,  ...,  0.0184, -0.0077,  0.0122],\n",
            "         ...,\n",
            "         [ 0.1078, -0.0245, -0.0484,  ...,  0.0184, -0.0077,  0.0122],\n",
            "         [ 0.1078, -0.0245, -0.0484,  ...,  0.0184, -0.0077,  0.0122],\n",
            "         [ 0.1078, -0.0245, -0.0484,  ...,  0.0184, -0.0077,  0.0122]],\n",
            "\n",
            "        [[ 0.1114,  0.0169, -0.0136,  ..., -0.0170, -0.0224, -0.0869],\n",
            "         [ 0.1114,  0.0169, -0.0136,  ..., -0.0170, -0.0224, -0.0869],\n",
            "         [ 0.1114,  0.0169, -0.0136,  ..., -0.0170, -0.0224, -0.0869],\n",
            "         ...,\n",
            "         [ 0.1114,  0.0169, -0.0136,  ..., -0.0170, -0.0224, -0.0869],\n",
            "         [ 0.1114,  0.0169, -0.0136,  ..., -0.0170, -0.0224, -0.0869],\n",
            "         [ 0.1114,  0.0169, -0.0136,  ..., -0.0170, -0.0224, -0.0869]],\n",
            "\n",
            "        [[-0.1258,  0.0178, -0.0647,  ...,  0.0430,  0.0077, -0.0127],\n",
            "         [-0.1258,  0.0178, -0.0647,  ...,  0.0430,  0.0077, -0.0127],\n",
            "         [-0.1258,  0.0178, -0.0647,  ...,  0.0430,  0.0077, -0.0127],\n",
            "         ...,\n",
            "         [-0.1258,  0.0178, -0.0647,  ...,  0.0430,  0.0077, -0.0127],\n",
            "         [-0.1258,  0.0178, -0.0647,  ...,  0.0430,  0.0077, -0.0127],\n",
            "         [-0.1258,  0.0178, -0.0647,  ...,  0.0430,  0.0077, -0.0127]],\n",
            "\n",
            "        [[ 0.0859,  0.0640, -0.1721,  ...,  0.1416, -0.0174, -0.0081],\n",
            "         [ 0.0859,  0.0640, -0.1721,  ...,  0.1416, -0.0174, -0.0081],\n",
            "         [ 0.0859,  0.0640, -0.1721,  ...,  0.1416, -0.0174, -0.0081],\n",
            "         ...,\n",
            "         [ 0.0859,  0.0640, -0.1721,  ...,  0.1416, -0.0174, -0.0081],\n",
            "         [ 0.0859,  0.0640, -0.1721,  ...,  0.1416, -0.0174, -0.0081],\n",
            "         [ 0.0859,  0.0640, -0.1721,  ...,  0.1416, -0.0174, -0.0081]]],\n",
            "       grad_fn=<CatBackward>)))\n"
          ],
          "name": "stdout"
        }
      ]
    },
    {
      "cell_type": "code",
      "metadata": {
        "id": "6DmIla_EKG8a",
        "colab_type": "code",
        "colab": {}
      },
      "source": [
        ""
      ],
      "execution_count": null,
      "outputs": []
    }
  ]
}